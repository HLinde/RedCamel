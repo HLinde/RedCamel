{
 "cells": [
  {
   "cell_type": "code",
   "execution_count": null,
   "id": "4a3b2cfd-c054-40d5-a022-992ddd789071",
   "metadata": {},
   "outputs": [],
   "source": [
    "%matplotlib widget\n",
    "import scipp as sc\n",
    "from chemformula import ChemFormula\n",
    "\n",
    "from redcamel import RemiCalculator, sample_coulomb_explosion"
   ]
  },
  {
   "cell_type": "code",
   "execution_count": null,
   "id": "84d55131-411b-4a0e-a7d3-5fd235e7f89b",
   "metadata": {},
   "outputs": [],
   "source": [
    "remi = RemiCalculator(\n",
    "    length_acceleration_ion=sc.scalar(0.1, unit=\"m\"),\n",
    "    length_drift_ion=sc.scalar(0.0, unit=\"m\"),\n",
    "    voltage_ion=sc.scalar(200, unit=\"V\"),\n",
    "    length_acceleration_electron=sc.scalar(0.2, unit=\"m\"),\n",
    "    length_drift_electron=sc.scalar(0.0, unit=\"m\"),\n",
    "    voltage_electron=sc.scalar(400, unit=\"V\"),\n",
    "    magnetic_field=sc.scalar(10, unit=\"G\"),\n",
    "    v_jet=sc.scalar(1000, unit=\"m/s\"),\n",
    "    jet_direction=\"+x\",\n",
    "    field_direction=\"+z\",\n",
    ")"
   ]
  },
  {
   "cell_type": "code",
   "execution_count": null,
   "id": "6bfc6ae1",
   "metadata": {},
   "outputs": [],
   "source": [
    "nitrogen_coincidence = sample_coulomb_explosion(\n",
    "    fragment_formulas=[ChemFormula(\"N\"), ChemFormula(\"N\")],\n",
    "    charge_counts=[1, 2],\n",
    "    kinetic_energy_release=sc.scalar(8, unit=\"eV\"),\n",
    "    energy_width=sc.scalar(0.5, unit=\"eV\"),\n",
    "    sizes={\"pulses\": 100_000, \"p\": 1},\n",
    "    remi=remi,\n",
    ")\n",
    "nitrogen_coincidence.calculate_detector_hits()\n",
    "nitrogens = nitrogen_coincidence.datagroup\n",
    "nitrogen_1 = nitrogens[\"N\"]\n",
    "nitrogen_2 = nitrogens[\"N_1\"]"
   ]
  },
  {
   "cell_type": "code",
   "execution_count": null,
   "id": "77a3ef17",
   "metadata": {},
   "outputs": [],
   "source": [
    "R_limit = sc.scalar(60, unit=\"mm\")\n",
    "pos_bins = 100\n",
    "x_bins = sc.linspace(\"x\", -R_limit, R_limit, pos_bins)\n",
    "tof_bins = sc.linspace(\"tof\", 0, 1e4, 1000, unit=\"ns\")\n",
    "x_tof_hist = nitrogen_1.hist(x=x_bins, tof=tof_bins, dim=(\"p\", \"pulses\"))\n",
    "x_tof_hist.plot(norm=\"log\", cmap=\"PuBuGn\")"
   ]
  },
  {
   "cell_type": "code",
   "execution_count": null,
   "id": "868f166d",
   "metadata": {},
   "outputs": [],
   "source": [
    "tof_hist = nitrogen_1.hist(tof=tof_bins, dim=(\"p\", \"pulses\"))\n",
    "tof_hist.plot(cmap=\"PuBuGn\")"
   ]
  },
  {
   "cell_type": "code",
   "execution_count": null,
   "id": "97ffb73d-012a-4471-942f-51ee085401a2",
   "metadata": {},
   "outputs": [],
   "source": []
  }
 ],
 "metadata": {
  "kernelspec": {
   "display_name": "Python (Pixi)",
   "language": "python",
   "name": "pixi-kernel-python3"
  },
  "language_info": {
   "codemirror_mode": {
    "name": "ipython",
    "version": 3
   },
   "file_extension": ".py",
   "mimetype": "text/x-python",
   "name": "python",
   "nbconvert_exporter": "python",
   "pygments_lexer": "ipython3",
   "version": "3.13.5"
  }
 },
 "nbformat": 4,
 "nbformat_minor": 5
}
