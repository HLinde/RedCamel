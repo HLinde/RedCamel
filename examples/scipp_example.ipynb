{
 "cells": [
  {
   "cell_type": "code",
   "execution_count": null,
   "id": "0",
   "metadata": {},
   "outputs": [],
   "source": [
    "import scipp as sc\n",
    "\n",
    "%matplotlib widget"
   ]
  },
  {
   "cell_type": "markdown",
   "id": "1",
   "metadata": {},
   "source": [
    "To get your own dataset:\n",
    "- Use redcamel to create electron data\n",
    "- Use the \"Save Scipp DataGroup to hdf5\" button on the \"Export Data\" tab"
   ]
  },
  {
   "cell_type": "code",
   "execution_count": null,
   "id": "2",
   "metadata": {},
   "outputs": [],
   "source": [
    "data = sc.io.load_hdf5(filename=\"redcamel_data.h5\")\n",
    "data"
   ]
  },
  {
   "cell_type": "code",
   "execution_count": null,
   "id": "3",
   "metadata": {},
   "outputs": [],
   "source": [
    "electrons = data[\"electrons\"]\n",
    "electrons"
   ]
  },
  {
   "cell_type": "code",
   "execution_count": null,
   "id": "4",
   "metadata": {},
   "outputs": [],
   "source": [
    "R_limit = sc.scalar(70, unit=\"mm\")\n",
    "pos_bins = 100\n",
    "x_bins_electrons = sc.linspace(\"x\", -R_limit, R_limit, pos_bins)\n",
    "y_bins_electrons = sc.linspace(\"y\", -R_limit, R_limit, pos_bins)\n",
    "x_y_hist = electrons.hist(x=x_bins_electrons, y=y_bins_electrons, dim=(\"p\", \"pulses\", \"HitNr\"))\n",
    "figure = x_y_hist.plot(norm=\"log\", cmap=\"PuBuGn\")\n",
    "figure.ax.set_aspect(\"equal\")\n",
    "figure"
   ]
  },
  {
   "cell_type": "code",
   "execution_count": null,
   "id": "5",
   "metadata": {},
   "outputs": [],
   "source": []
  }
 ],
 "metadata": {
  "kernelspec": {
   "display_name": "Python (Pixi)",
   "language": "python",
   "name": "pixi-kernel-python3"
  },
  "language_info": {
   "codemirror_mode": {
    "name": "ipython",
    "version": 3
   },
   "file_extension": ".py",
   "mimetype": "text/x-python",
   "name": "python",
   "nbconvert_exporter": "python",
   "pygments_lexer": "ipython3",
   "version": "3.11.13"
  }
 },
 "nbformat": 4,
 "nbformat_minor": 5
}
