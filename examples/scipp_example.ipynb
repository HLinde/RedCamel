{
 "cells": [
  {
   "cell_type": "code",
   "execution_count": null,
   "id": "0",
   "metadata": {},
   "outputs": [],
   "source": [
    "%matplotlib widget\n",
    "import plopp as pp\n",
    "import scipp as sc\n",
    "from plopp.graphics import Camera\n",
    "\n",
    "from redcamel import units"
   ]
  },
  {
   "cell_type": "code",
   "execution_count": null,
   "id": "1",
   "metadata": {},
   "outputs": [],
   "source": [
    "custom_units = units.aliases\n",
    "for unit in custom_units.items():\n",
    "    print(unit)"
   ]
  },
  {
   "cell_type": "markdown",
   "id": "2",
   "metadata": {},
   "source": [
    "To get your own dataset:\n",
    "- Use redcamel to create electron data\n",
    "- Use the \"Save Scipp DataGroup to hdf5\" button on the \"Export Data\" tab"
   ]
  },
  {
   "cell_type": "code",
   "execution_count": null,
   "id": "3",
   "metadata": {},
   "outputs": [],
   "source": [
    "data = sc.io.load_hdf5(filename=\"redcamel_data.h5\")\n",
    "data"
   ]
  },
  {
   "cell_type": "code",
   "execution_count": null,
   "id": "4",
   "metadata": {},
   "outputs": [],
   "source": [
    "electrons = data[\"electronsim\"][\"He_e\"][\"e\"]\n",
    "electrons"
   ]
  },
  {
   "cell_type": "code",
   "execution_count": null,
   "id": "5",
   "metadata": {},
   "outputs": [],
   "source": [
    "R_limit = sc.scalar(70, unit=\"mm\")\n",
    "pos_bins = 100\n",
    "x_bins_electrons = sc.linspace(\"x\", -R_limit, R_limit, pos_bins)\n",
    "y_bins_electrons = sc.linspace(\"y\", -R_limit, R_limit, pos_bins)\n",
    "x_y_hist = electrons.hist(x=x_bins_electrons, y=y_bins_electrons, dim=(\"p\", \"pulses\"))\n",
    "figure = x_y_hist.plot(norm=\"log\", cmap=\"PuBuGn\")\n",
    "figure.ax.set_aspect(\"equal\")\n",
    "figure"
   ]
  },
  {
   "cell_type": "code",
   "execution_count": null,
   "id": "6",
   "metadata": {},
   "outputs": [],
   "source": [
    "h2o_coin = data[\"coulombexplosions\"][\"H + OH\"]\n",
    "h2o_coin"
   ]
  },
  {
   "cell_type": "code",
   "execution_count": null,
   "id": "7",
   "metadata": {},
   "outputs": [],
   "source": [
    "h_hits = h2o_coin[\"H\"]\n",
    "oh_hits = h2o_coin[\"OH\"]\n",
    "oh_hits"
   ]
  },
  {
   "cell_type": "code",
   "execution_count": null,
   "id": "8",
   "metadata": {},
   "outputs": [],
   "source": [
    "oh_hist = oh_hits.hist(y=y_bins_electrons, x=x_bins_electrons, dim=(\"p\", \"pulses\"))"
   ]
  },
  {
   "cell_type": "code",
   "execution_count": null,
   "id": "9",
   "metadata": {},
   "outputs": [],
   "source": [
    "figure = oh_hist.plot(norm=\"log\", cmap=\"PuBuGn\")\n",
    "figure.ax.set_aspect(\"equal\")\n",
    "figure"
   ]
  },
  {
   "cell_type": "code",
   "execution_count": null,
   "id": "10",
   "metadata": {},
   "outputs": [],
   "source": [
    "nitrogens = data[\"coulombexplosions\"][\"N + N\"]\n",
    "nitrogens"
   ]
  },
  {
   "cell_type": "code",
   "execution_count": null,
   "id": "11",
   "metadata": {},
   "outputs": [],
   "source": [
    "camera = Camera(\n",
    "    position=sc.vector([200, 200, 200], unit=\"au momentum\"),\n",
    "    look_at=sc.vector([0.0, 0.0, 0.0], unit=\"au momentum\"),\n",
    ")\n",
    "pp.scatter3d(nitrogens, pos=\"p\", camera=camera)"
   ]
  },
  {
   "cell_type": "code",
   "execution_count": null,
   "id": "12",
   "metadata": {},
   "outputs": [],
   "source": [
    "nitrogen_1 = nitrogens[\"N\"]\n",
    "nitrogen_2 = nitrogens[\"N_1\"]\n",
    "momentum_sum = sc.DataArray(\n",
    "    data=sc.ones(sizes=nitrogen_1.sizes),\n",
    "    coords={\"p\": nitrogen_1.coords[\"p\"] + nitrogen_2.coords[\"p\"]},\n",
    ")\n",
    "print(momentum_sum)\n",
    "camera = Camera(\n",
    "    position=sc.vector([10, 10, 10], unit=\"au momentum\"),\n",
    "    look_at=sc.vector([0.0, 0.0, 0.0], unit=\"au momentum\"),\n",
    ")\n",
    "pp.scatter3d(momentum_sum, pos=\"p\", camera=camera)"
   ]
  },
  {
   "cell_type": "code",
   "execution_count": null,
   "id": "13",
   "metadata": {},
   "outputs": [],
   "source": [
    "nitrogen_1"
   ]
  }
 ],
 "metadata": {
  "kernelspec": {
   "display_name": "Python (Pixi)",
   "language": "python",
   "name": "pixi-kernel-python3"
  },
  "language_info": {
   "codemirror_mode": {
    "name": "ipython",
    "version": 3
   },
   "file_extension": ".py",
   "mimetype": "text/x-python",
   "name": "python",
   "nbconvert_exporter": "python",
   "pygments_lexer": "ipython3",
   "version": "3.13.5"
  }
 },
 "nbformat": 4,
 "nbformat_minor": 5
}
